{
 "cells": [
  {
   "cell_type": "markdown",
   "metadata": {},
   "source": [
    "Intro to ML 2 Workshop "
   ]
  },
  {
   "cell_type": "markdown",
   "metadata": {},
   "source": [
    "### Performance Metrics\n",
    "\n",
    "- We need some way of evaluation performance\n",
    "- This depends on the problem\n",
    "- Regression \n",
    "    - SSE, RMSE, MAE, etc.\n",
    "- Classification\n",
    "    - Precision, Recall"
   ]
  },
  {
   "cell_type": "markdown",
   "metadata": {},
   "source": [
    "### Train-Test Splits\n",
    "\n",
    "- Want some portion of the data to \"train\" the model\n",
    "- Want some portion of the data to \"test\" the model\n",
    "- Common splits are 75/25, 80/20, 90/10\n",
    "- Assume we want an 80/20 split\n",
    "    - 80% of the data for training \n",
    "    - 20% for testing\n",
    "\n",
    "- INSERT train_test_cv.png\n"
   ]
  },
  {
   "cell_type": "markdown",
   "metadata": {},
   "source": [
    "Train-Test Splits, example\n",
    "- For example, we have a dataset with 100 rows\n",
    "- We perform linear regression with 80 randomly selected rows (train set)\n",
    "- Performance is measured on the 20 remaining rows of data (test set)\n",
    "\n",
    "- To generalize, we want to repeat this process many times\n",
    "\n",
    "- INSERT train_test_cv1.png"
   ]
  },
  {
   "cell_type": "markdown",
   "metadata": {},
   "source": [
    "### Cross Validation \n",
    "\n",
    "- k-fold Cross Validation\n",
    "- A train-test split induces a number of folds\n",
    "- For the first fold\n",
    "    - Use portions 1-4 to train, test on 5\n",
    "    \n",
    "- INSERT train_test_cv1.png"
   ]
  },
  {
   "cell_type": "markdown",
   "metadata": {},
   "source": [
    "### Cross Validation\n",
    "\n",
    "- The remaining 4 folds\n",
    "\n",
    "- INSERT train_test_cv2.png\n",
    "- INSERT train_test_cv3.png\n",
    "- INSERT train_test_cv4.png\n",
    "- INSERT train_test_cv5.png\n"
   ]
  },
  {
   "cell_type": "code",
   "execution_count": null,
   "metadata": {},
   "outputs": [],
   "source": []
  }
 ],
 "metadata": {
  "kernelspec": {
   "display_name": "Python 3",
   "language": "python",
   "name": "python3"
  },
  "language_info": {
   "codemirror_mode": {
    "name": "ipython",
    "version": 3
   },
   "file_extension": ".py",
   "mimetype": "text/x-python",
   "name": "python",
   "nbconvert_exporter": "python",
   "pygments_lexer": "ipython3",
   "version": "3.8.3"
  }
 },
 "nbformat": 4,
 "nbformat_minor": 2
}
