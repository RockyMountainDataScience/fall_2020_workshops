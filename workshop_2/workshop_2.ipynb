{
 "cells": [
  {
   "cell_type": "markdown",
   "metadata": {
    "slideshow": {
     "slide_type": "slide"
    }
   },
   "source": [
    "# Machine Learning Intro II\n",
    "## August 31, 2020"
   ]
  },
  {
   "cell_type": "markdown",
   "metadata": {
    "slideshow": {
     "slide_type": "slide"
    }
   },
   "source": [
    "# Project Organization\n",
    "\n",
    "Forbes magazine released this graphic after surveying 80 data scientists. \n",
    "\n",
    "![DataScientistTime_Forbes.jpg](figures/DataScientistTime_Forbes.jpg)"
   ]
  },
  {
   "cell_type": "markdown",
   "metadata": {
    "slideshow": {
     "slide_type": "subslide"
    }
   },
   "source": [
    "## File Structure\n",
    "\n",
    "Project file structures can vary depending on the type of project, but most examples of an organized structure include folders for:\n",
    "\n",
    "- Data - unprocessed and processed data files\n",
    "- Scripts - code to clean, process, build the ML model, and analyze data\n",
    "- Results - analysis results from the model\n",
    "- Figures - ways to present results\n"
   ]
  },
  {
   "cell_type": "markdown",
   "metadata": {
    "slideshow": {
     "slide_type": "subslide"
    }
   },
   "source": [
    "## Category File Structure Example\n",
    "\n",
    "![Structure_Example.png](figures/Structure_Example.png)\n",
    "\n",
    "- src - source code\n",
    "- eda - exploratory data analysis\n",
    "- poc - proof of concept"
   ]
  },
  {
   "cell_type": "markdown",
   "metadata": {
    "slideshow": {
     "slide_type": "subslide"
    }
   },
   "source": [
    "## Project Documentation\n",
    "\n",
    "Most data projects are built to be shared. To give meaning to the project, most data scientists include documentation on:\n",
    "\n",
    "- Research questions being posed\n",
    "- Type of data being used\n",
    "- Any necessary data cleaning or processing\n",
    "- Type of Machine Learning model being applied\n",
    "- Any parameters or assumptions incorporated with the data or the model\n",
    "- Expected format of results\n",
    "\n"
   ]
  },
  {
   "cell_type": "markdown",
   "metadata": {
    "slideshow": {
     "slide_type": "subslide"
    }
   },
   "source": [
    "\n",
    "![Screen%20Shot%202020-08-26%20at%207.36.41%20PM.png](figures/Screen%20Shot%202020-08-26%20at%207.36.41%20PM.png)\n"
   ]
  },
  {
   "cell_type": "markdown",
   "metadata": {
    "slideshow": {
     "slide_type": "subslide"
    }
   },
   "source": [
    "## Data Lifecycle\n",
    "\n",
    "Working with data types or pulling data from databases\n",
    "\n",
    "![Data-Lifecycle.png](figures/Data-Lifecycle.png)"
   ]
  },
  {
   "cell_type": "markdown",
   "metadata": {
    "slideshow": {
     "slide_type": "subslide"
    }
   },
   "source": [
    "## Code Development and Operations\n",
    "![devops.png](figures/devops.png)"
   ]
  },
  {
   "cell_type": "markdown",
   "metadata": {
    "slideshow": {
     "slide_type": "subslide"
    }
   },
   "source": [
    "## Collaboration and Version Control\n",
    "\n",
    "Data science is built around community, and community means that more than one set of hands may touch your code. \n",
    "\n",
    "![VersionControl.png](figures/VersionControl.png)"
   ]
  },
  {
   "cell_type": "markdown",
   "metadata": {
    "slideshow": {
     "slide_type": "subslide"
    }
   },
   "source": [
    "# Collaboration Tools\n",
    "\n",
    "Version Control\n",
    " - Git - tools to control the version control system integrated into your development environment or from the command line\n",
    " - GitHub - website that projects are published to, facilitates multiple people working on the same project\n",
    " \n",
    "Communication\n",
    "- Slack - workplace organized chat"
   ]
  },
  {
   "cell_type": "markdown",
   "metadata": {
    "slideshow": {
     "slide_type": "slide"
    }
   },
   "source": [
    "### Performance Metrics\n",
    "\n",
    "- We need some way of evaluation performance\n",
    "- This depends on the problem\n",
    "- Regression \n",
    "    - SSE, RMSE, MAE, etc.\n",
    "- Classification\n",
    "    - Precision, Recall"
   ]
  },
  {
   "cell_type": "markdown",
   "metadata": {
    "slideshow": {
     "slide_type": "subslide"
    }
   },
   "source": [
    "### Train-Test Splits\n",
    "\n",
    "- Want some portion of the data to \"train\" the model\n",
    "- Want some portion of the data to \"test\" the model\n",
    "- Common splits are 75/25, 80/20, 90/10\n",
    "- Assume we want an 80/20 split\n",
    "    - 80% of the data for training \n",
    "    - 20% for testing\n",
    "\n",
    "![diamond_data](figures/train_test_5cv.PNG)\n"
   ]
  },
  {
   "cell_type": "markdown",
   "metadata": {
    "slideshow": {
     "slide_type": "subslide"
    }
   },
   "source": [
    "Train-Test Splits, example\n",
    "- For example, we have a dataset with 100 rows\n",
    "- We perform linear regression with 80 randomly selected rows (train set)\n",
    "- Performance is measured on the 20 remaining rows of data (test set)\n",
    "\n",
    "- To generalize, we want to repeat this process many times\n",
    "\n",
    "![diamond_data](figures/train_test_5cv1.PNG)\n"
   ]
  },
  {
   "cell_type": "markdown",
   "metadata": {
    "slideshow": {
     "slide_type": "subslide"
    }
   },
   "source": [
    "### Cross Validation \n",
    "\n",
    "- k-fold Cross Validation\n",
    "- A train-test split induces a number of folds\n",
    "- For the first fold\n",
    "    - Use portions 1-4 to train, test on 5\n",
    "\n",
    "![diamond_data](figures/train_test_5cv1.PNG)"
   ]
  },
  {
   "cell_type": "markdown",
   "metadata": {
    "slideshow": {
     "slide_type": "subslide"
    }
   },
   "source": [
    "### Cross Validation\n",
    "\n",
    "- The remaining 4 folds\n",
    "\n",
    "|                                       |                                  |\n",
    "|---------------------------------------|----------------------------------|\n",
    "|  ![diamond_data](figures/train_test_5cv2.PNG) | ![diamond_data](figures/train_test_5cv3.PNG)  |\n",
    "|  ![diamond_data](figures/train_test_5cv4.PNG) | ![diamond_data](figures/train_test_5cv5.PNG)  |\n",
    "\n"
   ]
  },
  {
   "cell_type": "markdown",
   "metadata": {
    "slideshow": {
     "slide_type": "slide"
    }
   },
   "source": [
    "# Example Project: Diamonds Dataset\n",
    "\n",
    "* Research Question: Find a model which minimizes how much we underprice each diamond.\n",
    "\n",
    "* The data are collected on previous diamond sales and have price, carat, and grade of cut."
   ]
  },
  {
   "cell_type": "markdown",
   "metadata": {
    "slideshow": {
     "slide_type": "subslide"
    }
   },
   "source": [
    "# Visualize the Data\n",
    "\n",
    "![diamond_data](figures/diamond_data.png)"
   ]
  },
  {
   "cell_type": "markdown",
   "metadata": {
    "slideshow": {
     "slide_type": "subslide"
    }
   },
   "source": [
    "# Linear Regression - Model 1\n",
    "\n",
    "* We will first consider a linear regression model with varying intercepts but the same slope\n",
    "\n",
    "* Varying intercepts mean that each cut has on average different mean prices\n",
    "\n",
    "* Same slope means that the predicted increase in price per unit increase in carat is the same for each cut"
   ]
  },
  {
   "cell_type": "markdown",
   "metadata": {
    "slideshow": {
     "slide_type": "subslide"
    }
   },
   "source": [
    "# Visualising Model 1 Fit\n",
    "\n",
    "![diamond_data_model1](figures/diamond_data_model1.png)"
   ]
  },
  {
   "cell_type": "markdown",
   "metadata": {
    "slideshow": {
     "slide_type": "subslide"
    }
   },
   "source": [
    "# Loss Functions\n",
    "\n",
    "* Mean Squared Loss for this Model: 2,284,251 $\\$^2$\n",
    "\n",
    "* Mean Absolute Loss for this Model: 988.46 $\\$$"
   ]
  },
  {
   "cell_type": "markdown",
   "metadata": {
    "slideshow": {
     "slide_type": "subslide"
    }
   },
   "source": [
    "# Custom Loss Function\n",
    "\n",
    "* Since our research question is specifically interested in _underpricing_ the diamonds, consider this custom loss function:\n",
    "\n",
    "$$\n",
    "L(actual, estimated) = \n",
    "\\begin{cases}\n",
    "    actual - estimated & actual > estimated \\\\\n",
    "    0 & else \\\\\n",
    "\\end{cases}\n",
    "$$\n",
    "\n",
    "* Using this loss function, the sum total is $\\$$ 26,658,675\n",
    "\n",
    "* Using this loss function, the average underpricing is $\\$$ 494.23"
   ]
  },
  {
   "cell_type": "markdown",
   "metadata": {
    "slideshow": {
     "slide_type": "subslide"
    }
   },
   "source": [
    "# Iterating the Model: Varying Slope, Varying Intercept\n",
    "\n",
    "![diamond_data_model2](figures/diamond_data_model2.png)"
   ]
  },
  {
   "cell_type": "markdown",
   "metadata": {
    "slideshow": {
     "slide_type": "subslide"
    }
   },
   "source": [
    "# Perfomance Evaluation\n",
    "\n",
    "* Mean Squared Error for this model: 2,243,036 $\\$^2$ (previous model: 2,284,251 $\\$^2$)\n",
    "\n",
    "* Mean Absolute Error for this model: 987.40 $\\$$ (previous model: 988.46 $\\$$)\n",
    "\n",
    "* Sum total of underpricing:  $\\$$ 26,630,089 (previous model: $\\$$ 26,658,675)\n",
    "\n",
    "* Average underpricing: $\\$$ 493.70 (previous model: $\\$$ 494.23)"
   ]
  },
  {
   "cell_type": "markdown",
   "metadata": {
    "slideshow": {
     "slide_type": "subslide"
    }
   },
   "source": [
    "# Keep Iterating: Quadratic Model\n",
    "\n",
    "![diamond_data_model3](figures/diamond_data_model3.png)"
   ]
  },
  {
   "cell_type": "markdown",
   "metadata": {
    "slideshow": {
     "slide_type": "subslide"
    }
   },
   "source": [
    "# Fit Curves by Cut\n",
    "\n",
    "![fit curves by cut](figures/individual_fit.png)"
   ]
  },
  {
   "cell_type": "markdown",
   "metadata": {
    "slideshow": {
     "slide_type": "subslide"
    }
   },
   "source": [
    "# Model Evaluation\n",
    "\n",
    "| Model Index | Model                            | MSE       | MAE    | Total Underpricing | Average Underpricing |\n",
    "|-------------|----------------------------------|-----------|--------|--------------------|----------------------|\n",
    "|      1      | Varying Intercept                | 2,284,251 | 988.46 | 26,658,675         | 494.23               |\n",
    "|      2      | Varying Intercept, Varying Slope | 2,243,036 | 987.40 | 26,630,089         | 493.70               |\n",
    "|      3      | Varying Quadratic                |_2,180,508_|_908.12_|_24,491,946_ \t   |_454.06_              |"
   ]
  },
  {
   "cell_type": "markdown",
   "metadata": {
    "slideshow": {
     "slide_type": "slide"
    }
   },
   "source": [
    "### Example Project: Classify species of Iris\n",
    "\n",
    "* Research Question: Build a model to classify species of iris (versicolor and virginica) using sepal length and width \n",
    "\n",
    "* The data were collected by Edgar Anderson in 1936\n",
    "* The full dataset includes 3 species of iris (*versicolor*, *virginica*, and *setosa*)\n",
    "* The full dataset includes 3 features/covariates (sepal length, sepal width, petal length, petal width)\n",
    "* A famous dataset - Was used by R.A. Fisher in his paper on discriminant analysis (one of the earliest classification models)"
   ]
  },
  {
   "cell_type": "markdown",
   "metadata": {
    "slideshow": {
     "slide_type": "subslide"
    }
   },
   "source": [
    "![diamond_data_model3](figures/iris_raw_data.png)"
   ]
  },
  {
   "cell_type": "markdown",
   "metadata": {
    "slideshow": {
     "slide_type": "subslide"
    }
   },
   "source": [
    "# K nearest neighbors classification/regression\n",
    "- For each point in the dataset, find the point's k nearest neighbors\n",
    "- For classification, return the plurality vote for those k neighbors\n",
    "- For classification, return the mean of those k neighbors"
   ]
  },
  {
   "cell_type": "markdown",
   "metadata": {
    "slideshow": {
     "slide_type": "subslide"
    }
   },
   "source": [
    "#### (Aside:) Performance in generalizable classification will be driven by separability and sample size\n",
    "\n",
    "![diamond_data_model3](figures/linpred.png)"
   ]
  },
  {
   "cell_type": "markdown",
   "metadata": {
    "slideshow": {
     "slide_type": "subslide"
    }
   },
   "source": [
    "#### Generalizability as a function of k\n",
    "\n",
    "![diamond_data_model3](figures/iris_k_train_test.png)"
   ]
  },
  {
   "cell_type": "markdown",
   "metadata": {
    "slideshow": {
     "slide_type": "subslide"
    }
   },
   "source": [
    "# Tuning k with cross-validation\n",
    "![diamond_data_model3](figures/cv_plot.png)"
   ]
  },
  {
   "cell_type": "markdown",
   "metadata": {
    "slideshow": {
     "slide_type": "subslide"
    }
   },
   "source": [
    "# Best k predicted probabilities\n",
    "![diamond_data_model3](figures/irisk-best-k.png)"
   ]
  },
  {
   "cell_type": "markdown",
   "metadata": {
    "slideshow": {
     "slide_type": "subslide"
    }
   },
   "source": [
    "# Presenting Results (Confusion Matrices)\n",
    "\n",
    "| | | Predicted |  |\n",
    "|---|---|---|---|\n",
    "|  | | Ve| Vi |\n",
    "| **True** | Ve | 38| 12 |\n",
    "| | Vi |16 | 34|\n"
   ]
  },
  {
   "cell_type": "markdown",
   "metadata": {
    "slideshow": {
     "slide_type": "subslide"
    }
   },
   "source": [
    "# Presenting Results (ROC curves and AUC)\n",
    "![diamond_data_model3](figures/roc_curve.png)"
   ]
  },
  {
   "cell_type": "markdown",
   "metadata": {
    "slideshow": {
     "slide_type": "slide"
    }
   },
   "source": [
    "# Questions?"
   ]
  },
  {
   "cell_type": "code",
   "execution_count": null,
   "metadata": {},
   "outputs": [],
   "source": []
  }
 ],
 "metadata": {
  "celltoolbar": "Slideshow",
  "kernelspec": {
   "display_name": "rmds-f20-ws2",
   "language": "python",
   "name": "rmds-f20-ws2"
  },
  "language_info": {
   "codemirror_mode": {
    "name": "ipython",
    "version": 3
   },
   "file_extension": ".py",
   "mimetype": "text/x-python",
   "name": "python",
   "nbconvert_exporter": "python",
   "pygments_lexer": "ipython3",
   "version": "3.8.3"
  }
 },
 "nbformat": 4,
 "nbformat_minor": 4
}
