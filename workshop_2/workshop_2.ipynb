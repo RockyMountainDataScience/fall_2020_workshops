{
 "cells": [
  {
   "cell_type": "markdown",
   "metadata": {
    "slideshow": {
     "slide_type": "slide"
    }
   },
   "source": [
    "# Machine Learning Intro II\n",
    "## August 31, 2020"
   ]
  },
  {
   "cell_type": "markdown",
   "metadata": {
    "slideshow": {
     "slide_type": "slide"
    }
   },
   "source": [
    "# Example Project: Diamonds Dataset\n",
    "\n",
    "* Research Question: Find a model which minimizes how much we underprice each diamond.\n",
    "\n",
    "* The data are collected on previous diamond sales and have price, carat, and grade of cut."
   ]
  },
  {
   "cell_type": "markdown",
   "metadata": {
    "slideshow": {
     "slide_type": "subslide"
    }
   },
   "source": [
    "# Visualize the Data\n",
    "\n",
    "![diamond_data](diamond_data.png)"
   ]
  },
  {
   "cell_type": "markdown",
   "metadata": {
    "slideshow": {
     "slide_type": "subslide"
    }
   },
   "source": [
    "# Linear Regression - Model 1\n",
    "\n",
    "* We will first consider a linear regression model with varying intercepts but the same slope\n",
    "\n",
    "* Varying intercepts mean that each cut has on average different mean prices\n",
    "\n",
    "* Same slope means that the predicted increase in price per unit increase in carat is the same for each cut"
   ]
  },
  {
   "cell_type": "markdown",
   "metadata": {
    "slideshow": {
     "slide_type": "subslide"
    }
   },
   "source": [
    "# Visualising Model 1 Fit\n",
    "\n",
    "![diamond_data_model1](diamond_data_model1.png)"
   ]
  },
  {
   "cell_type": "markdown",
   "metadata": {
    "slideshow": {
     "slide_type": "subslide"
    }
   },
   "source": [
    "# Loss Functions\n",
    "\n",
    "* Mean Squared Loss for this Model: 2,284,251 $\\$^2$\n",
    "\n",
    "* Mean Absolute Loss for this Model: 988.46 $\\$$"
   ]
  },
  {
   "cell_type": "markdown",
   "metadata": {
    "slideshow": {
     "slide_type": "subslide"
    }
   },
   "source": [
    "# Custom Loss Function\n",
    "\n",
    "* Since our research question is specifically interested in _underpricing_ the diamonds, consider this custom loss function:\n",
    "\n",
    "$$\n",
    "L(actual, estimated) = \n",
    "\\begin{cases}\n",
    "    actual - estimated & actual > estimated \\\\\n",
    "    0 & else \\\\\n",
    "\\end{cases}\n",
    "$$\n",
    "\n",
    "* Using this loss function, the sum total is $\\$$ 26,658,675\n",
    "\n",
    "* Using this loss function, the average underpricing is $\\$$ 494.23"
   ]
  },
  {
   "cell_type": "markdown",
   "metadata": {
    "slideshow": {
     "slide_type": "subslide"
    }
   },
   "source": [
    "# Custom Loss Function\n",
    "\n",
    "* Since our research question is specifically interested in _underpricing_ the diamonds, consider this custom loss function:\n",
    "\n",
    "$$\n",
    "L(actual, estimated) = \n",
    "\\begin{cases}\n",
    "    actual - estimated & actual > estimated \\\\\n",
    "    0 & else \\\\\n",
    "\\end{cases}\n",
    "$$\n",
    "\n",
    "* Using this loss function, the sum total is $\\$$ 26,658,675\n",
    "\n",
    "* Using this loss function, the average underpricing is $\\$$ 494.23"
   ]
  },
  {
   "cell_type": "markdown",
   "metadata": {
    "slideshow": {
     "slide_type": "subslide"
    }
   },
   "source": [
    "# Iterating the Model: Varying Slope, Varying Intercept\n",
    "\n",
    "![diamond_data_model2](diamond_data_model2.png)"
   ]
  },
  {
   "cell_type": "markdown",
   "metadata": {
    "slideshow": {
     "slide_type": "subslide"
    }
   },
   "source": [
    "# Perfomance Evaluation\n",
    "\n",
    "* Mean Squared Error for this model: 2,243,036 $\\$^2$ (previous model: 2,284,251 $\\$^2$)\n",
    "\n",
    "* Mean Absolute Error for this model: 987.40 $\\$$ (previous model: 988.46 $\\$$)\n",
    "\n",
    "* Sum total of underpricing:  $\\$$ 26,630,089 (previous model: $\\$$ 26,658,675)\n",
    "\n",
    "* Average underpricing: $\\$$ 493.70 (previous model: $\\$$ 494.23)"
   ]
  },
  {
   "cell_type": "markdown",
   "metadata": {
    "slideshow": {
     "slide_type": "subslide"
    }
   },
   "source": [
    "# Keep Iterating: Quadratic Model\n",
    "\n",
    "![diamond_data_model3](diamond_data_model3.png)"
   ]
  },
  {
   "cell_type": "markdown",
   "metadata": {
    "slideshow": {
     "slide_type": "subslide"
    }
   },
   "source": [
    "# Model Evaluation\n",
    "\n",
    "| Model Index | Model                            | MSE       | MAE    | Total Underpricing | Average Underpricing |\n",
    "|-------------|----------------------------------|-----------|--------|--------------------|----------------------|\n",
    "|      1      | Varying Intercept                | 2,284,251 | 988.46 | 26,658,675         | 494.23               |\n",
    "|      2      | Varying Intercept, Varying Slope | 2,243,036 | 987.40 | 26,630,089         | 493.70               |\n",
    "|      3      | Varying Quadratic                |_2,180,508_|_908.12_|_24,491,946_ \t   |_454.06_              |"
   ]
  },
  {
   "cell_type": "markdown",
   "metadata": {},
   "source": [
    "### Example Project: Classify species of Iris\n",
    "\n",
    "* Research Question: Build a model to classify species of iris (versicolor and virginica) using sepal length and width \n",
    "\n",
    "* The data are collected on previous diamond sales and have price, carat, and grade of cut."
   ]
  },
  {
   "cell_type": "code",
   "execution_count": null,
   "metadata": {},
   "outputs": [],
   "source": []
  }
 ],
 "metadata": {
  "celltoolbar": "Slideshow",
  "kernelspec": {
   "display_name": "rmds-f20-ws2",
   "language": "python",
   "name": "rmds-f20-ws2"
  },
  "language_info": {
   "codemirror_mode": {
    "name": "ipython",
    "version": 3
   },
   "file_extension": ".py",
   "mimetype": "text/x-python",
   "name": "python",
   "nbconvert_exporter": "python",
   "pygments_lexer": "ipython3",
   "version": "3.8.3"
  }
 },
 "nbformat": 4,
 "nbformat_minor": 4
}
