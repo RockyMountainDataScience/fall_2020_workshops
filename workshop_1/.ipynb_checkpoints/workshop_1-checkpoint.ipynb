{
 "cells": [
  {
   "cell_type": "markdown",
   "metadata": {
    "slideshow": {
     "slide_type": "slide"
    }
   },
   "source": [
    "# Machine Learning Fundamentals I\n",
    "\n",
    "## Workshop 1\n",
    "\n",
    "### August 24th, 2020"
   ]
  },
  {
   "cell_type": "markdown",
   "metadata": {
    "slideshow": {
     "slide_type": "subslide"
    }
   },
   "source": [
    "# What is RMDS?\n",
    "\n",
    "* Rocky Mountain Data Science is about data science.\n",
    "\n",
    "* Rocky Mountain Data Science is about professional development.\n",
    "\n",
    "* Rocky Mountain Data Science is about community."
   ]
  },
  {
   "cell_type": "markdown",
   "metadata": {
    "slideshow": {
     "slide_type": "subslide"
    }
   },
   "source": [
    "# Differences from the Past\n",
    "\n",
    "* All online\n",
    "\n",
    "* Weekly one hour instead of two hours every two weeks\n",
    "\n",
    "* Code Talk Sessions on weeks when workshops are not scheduled"
   ]
  },
  {
   "cell_type": "markdown",
   "metadata": {
    "slideshow": {
     "slide_type": "subslide"
    }
   },
   "source": [
    "# Semester Plan\n",
    "\n",
    "* Two ML Fundamentals Workshops\n",
    "\n",
    "* Topic Workshops\n",
    "\n",
    "* Code Talks"
   ]
  },
  {
   "cell_type": "markdown",
   "metadata": {
    "slideshow": {
     "slide_type": "subslide"
    }
   },
   "source": [
    "# RMDS.tech\n",
    "\n",
    "* Our website has our future schedule\n",
    "\n",
    "* Share the mailing list link with those you think may be interested\n",
    "\n",
    "* Will have links to webinar videos and material"
   ]
  },
  {
   "cell_type": "markdown",
   "metadata": {
    "slideshow": {
     "slide_type": "subslide"
    }
   },
   "source": [
    "# After Every Workshop...\n",
    "\n",
    "* Videos will be posted from the recorded session\n",
    "\n",
    "* Material from that session will be included as a link\n",
    "\n",
    "* Next session will be announced"
   ]
  },
  {
   "cell_type": "markdown",
   "metadata": {
    "slideshow": {
     "slide_type": "subslide"
    }
   },
   "source": [
    "# Interested in Volunteering?\n",
    "\n",
    "* Contact us to let us know if you are interested in volunteering for RMDS"
   ]
  },
  {
   "cell_type": "markdown",
   "metadata": {
    "slideshow": {
     "slide_type": "slide"
    }
   },
   "source": [
    "# Intro to ML I\n",
    "\n",
    "In this workshop, you will learn about:\n",
    " - ML (General Introduction and History)\n",
    " - ML Lifecycle\n",
    " - Types of problems (e.g. Regression, Classification)\n",
    " - Types of Data (Research Examples)"
   ]
  },
  {
   "cell_type": "markdown",
   "metadata": {
    "slideshow": {
     "slide_type": "subslide"
    }
   },
   "source": [
    "# Machine Learning (c. 1950s)\n",
    "\n",
    "- Interdisciplinary field of Computer Science\n",
    "- Considered to be a subset of artificial intelligence\n",
    "- Concerned with how to construct computer programs that learn with experience"
   ]
  },
  {
   "cell_type": "markdown",
   "metadata": {
    "slideshow": {
     "slide_type": "subslide"
    }
   },
   "source": [
    "# Main Branches of ML\n",
    "\n",
    " - Supervised Learning (Classification and Regression - Decision Trees, Neural Networks, Support Vector Machines, etc.)\n",
    " - Unsupervised Learning (Clustering and Dimensionality Reduction - Hierarchical Clustering, PCA, T-SNE, etc.)\n",
    " - Reinforcement Learning (Q-learning, SARSA, TD Lambda)"
   ]
  },
  {
   "cell_type": "markdown",
   "metadata": {
    "slideshow": {
     "slide_type": "subslide"
    }
   },
   "source": [
    "# Other Branches of ML\n",
    "- Semi-Supervised Learning (Data imputation approaches)\n",
    "- Adversarial Learning (Robust Statistics and Cyber Security, Generative Adversarial Networks)\n",
    "- Transfer Learning (Use ML built on one problem and apply to another)\n",
    "- Manifold Learning (Dimensionality Reduction)\n",
    "- Natural Language Processing\n",
    "- Inductive Logic Programming\n",
    "- Theoretical Foundations (Statistical Learning, Concept Learning)"
   ]
  },
  {
   "cell_type": "markdown",
   "metadata": {
    "slideshow": {
     "slide_type": "subslide"
    }
   },
   "source": [
    "# ML Timeline\n",
    "![ML Timline](figures/ml_timeline.png)"
   ]
  },
  {
   "cell_type": "markdown",
   "metadata": {
    "slideshow": {
     "slide_type": "slide"
    }
   },
   "source": [
    "# Machine Learning Lifecycle\n",
    "\n",
    "## It's all about the data. \n",
    "\n",
    "![MLworkflow.jpg](figures/MLworkflow.jpg)\n"
   ]
  },
  {
   "cell_type": "markdown",
   "metadata": {
    "slideshow": {
     "slide_type": "subslide"
    }
   },
   "source": [
    "## Data Collection\n",
    "\n",
    "![data-collection-ideas.jpg](figures/data-collection-ideas.jpg)"
   ]
  },
  {
   "cell_type": "markdown",
   "metadata": {
    "slideshow": {
     "slide_type": "subslide"
    }
   },
   "source": [
    "# Research Question\n",
    "1. Based on topic, data available, and end goal\n",
    "  - Predictive versus inferential modeling\n",
    "2. Pick a Machine Learning model based on your **research question** and **type of data**\n",
    "\n",
    "**Now we're ready to scrub that data clean**\n"
   ]
  },
  {
   "cell_type": "markdown",
   "metadata": {
    "slideshow": {
     "slide_type": "subslide"
    }
   },
   "source": [
    "## Data Cleaning\n",
    "![DirtyData-650x431.png](figures/DirtyData-650x431.png)\n",
    "### Unmanageable data leads to an unwieldy model"
   ]
  },
  {
   "cell_type": "markdown",
   "metadata": {
    "slideshow": {
     "slide_type": "subslide"
    }
   },
   "source": [
    "## Data Cleaning\n",
    "\n",
    "    1. Fit data format to Machine Learning model\n",
    "    \n",
    "    2. Perform any desired pre-processing\n",
    "\n",
    "### Analysis time!"
   ]
  },
  {
   "cell_type": "markdown",
   "metadata": {
    "slideshow": {
     "slide_type": "subslide"
    }
   },
   "source": [
    "## Analysis using Machine Learning\n",
    "\n",
    "![Machine-Learning.png](figures/Machine-Learning.png)"
   ]
  },
  {
   "cell_type": "markdown",
   "metadata": {
    "slideshow": {
     "slide_type": "subslide"
    }
   },
   "source": [
    "## Analysis using a supervised learning method\n",
    "\n",
    "![Training.jpg](figures/Training.jpg)"
   ]
  },
  {
   "cell_type": "markdown",
   "metadata": {
    "slideshow": {
     "slide_type": "subslide"
    }
   },
   "source": [
    "## Presentation of Results (Depends on the problem)\n",
    "\n",
    "![Average-precision-recall-and-ROC-curves-for-the-GO-rollback-benchmark-The-curves.png](figures/Average-precision-recall-and-ROC-curves-for-the-GO-rollback-benchmark-The-curves.png)\n",
    "- RMSE (Regression)\n",
    "- Classification Error, ROC/Precision Recall Curves (Classification)\n",
    "- P-Values (Inferential Problems)\n",
    "- Groupings (Clusters and characteristics of the clusters)\n",
    "- Optimal (or satisfactory) solution (Optimization and Reinforcement Learning) "
   ]
  },
  {
   "cell_type": "markdown",
   "metadata": {
    "slideshow": {
     "slide_type": "slide"
    }
   },
   "source": [
    "# Types of Data"
   ]
  },
  {
   "cell_type": "markdown",
   "metadata": {
    "slideshow": {
     "slide_type": "subslide"
    }
   },
   "source": [
    "### Some Questions to ask\n",
    " - Where did the data come from? \n",
    " - What are rows and columns? \n",
    " - Readme? Another source? What do we know about it beforehand? \n",
    " - Why were certain attributes collected?"
   ]
  },
  {
   "cell_type": "markdown",
   "metadata": {
    "slideshow": {
     "slide_type": "subslide"
    }
   },
   "source": [
    "# Types of Data (Response or Covariate)\n",
    "- Numerical (Continuous, Count)\n",
    "- Categorical (Nominal, Ordinal)\n",
    "- Functional (Time Series, Temporal, Spatial, Images)\n",
    "- Time to Event (Survival, Point Processes)"
   ]
  },
  {
   "cell_type": "markdown",
   "metadata": {
    "slideshow": {
     "slide_type": "subslide"
    }
   },
   "source": [
    "# Types of data (Response or Covariate):\n",
    "\n",
    "- Numerical data\n",
    "    - Real-valued data\n",
    "        - Temperature, PPM\n",
    "    - Location\n",
    "        - Real Valued or Integer (Lattice)\n",
    "            - Locations of plants on a hill, Time to recurrence of a disease\n",
    "    - Count data\n",
    "        - Integer-valued\n",
    "            - Number of Covid cases\n",
    "    - Functions\n",
    "        - Growth curves, Temperature Curves, Images"
   ]
  },
  {
   "cell_type": "markdown",
   "metadata": {
    "slideshow": {
     "slide_type": "subslide"
    }
   },
   "source": [
    "# Types of data (Response or Covariate):\n",
    "\n",
    "- Categorical\n",
    "    - Nominal\n",
    "        - Binary\n",
    "           - T/F, Y/N, Good/Bad, Heads/Tails\n",
    "        - Multi-Category\n",
    "           - City {LA, NY, SF}\n",
    "    - Ordinal\n",
    "        - Income values {low, middle, high}, Education level {high school, bachelors, graduate, doctor}"
   ]
  },
  {
   "cell_type": "markdown",
   "metadata": {
    "slideshow": {
     "slide_type": "subslide"
    }
   },
   "source": [
    "# Structures of data:\n",
    "\n",
    "- Spatial\n",
    "- Sequence data\n",
    "    - Sequences, time series\n",
    "- Text data \n",
    "    - Matrix\n",
    "    - txt files\n",
    "- Image data\n",
    "    - Matrix\n",
    "    - image files\n",
    "- Streaming data"
   ]
  },
  {
   "cell_type": "markdown",
   "metadata": {
    "slideshow": {
     "slide_type": "slide"
    }
   },
   "source": [
    "# Types of Problems:\n",
    " - Supervised\n",
    "    - Regression (means)\n",
    "    - Classification (decision boundaries)\n",
    " - Unsupervised\n",
    "    - Clustering (Groupings)\n",
    "    - Dimensionality reduction (new representations of data)\n",
    " - Reinforcement learning\n",
    " - Optimization\n",
    " \n",
    " ### Some problems involve a mixture of the above ML problems/techniques"
   ]
  },
  {
   "cell_type": "markdown",
   "metadata": {
    "slideshow": {
     "slide_type": "subslide"
    }
   },
   "source": [
    "#### Example Problem: Estimate the average price of a diamond based on carat and cut\n",
    "![ML Timline](figures/carat.png)\n",
    "- What type of data is the response?\n",
    "- What type are the covariates?\n",
    "- What type of ML problem is this?\n",
    "- What's an appropriate way to disseminate results of the model?"
   ]
  },
  {
   "cell_type": "markdown",
   "metadata": {
    "slideshow": {
     "slide_type": "subslide"
    }
   },
   "source": [
    "# Regression (Example Methods)\n",
    "- Linear Regression\n",
    "- Nonlinear Regression\n",
    "- Lasso/Ridge/Elastic Net Regression\n",
    "- Generalized Additive Models\n",
    "- Support Vector Machines\n",
    "- Neural Networks\n",
    "- Kernel Regression (**Gaussian Process Regression**)\n",
    "- Decision Trees and Random Forests\n",
    "- K-Nearest Neighbors"
   ]
  },
  {
   "cell_type": "markdown",
   "metadata": {
    "slideshow": {
     "slide_type": "subslide"
    }
   },
   "source": [
    "#### Example Problem: Classifiy species of Iris bases on sepal length and sepal width\n",
    "![ML Timline](figures/iris_images.png)\n",
    "- What type of data is the response?\n",
    "- What type are the covariates?\n",
    "- What type of ML problem is this?\n",
    "- What's an appropriate way to disseminate results of the model?"
   ]
  },
  {
   "cell_type": "markdown",
   "metadata": {
    "slideshow": {
     "slide_type": "subslide"
    }
   },
   "source": [
    "#### Decision Boundaries using a SVM\n",
    "![ML Timline](figures/iris_svm.png)\n"
   ]
  },
  {
   "cell_type": "markdown",
   "metadata": {
    "slideshow": {
     "slide_type": "subslide"
    }
   },
   "source": [
    "# Classification (Example Methods)\n",
    "- Generalized Linear Regression\n",
    "- Lasso/Ridge/Elastic Net Regression\n",
    "- Generalized Additive Models\n",
    "- Support Vector Machines\n",
    "- Neural Networks\n",
    "- Kernel Regression (**Gaussian Processes**)\n",
    "- Decision Trees and Random Forests\n",
    "- K-Nearest Neighbors"
   ]
  },
  {
   "cell_type": "markdown",
   "metadata": {
    "slideshow": {
     "slide_type": "subslide"
    }
   },
   "source": [
    "#### Example Problem: Do hip angle trajectories differ across 3 groups of individuals?\n",
    "\n",
    "Knee Trajectories                       |  Knee Trajectories Group Means\n",
    ":--------------------------------------:|:-------------------------:\n",
    "![ML Timline](figures/knee_orig.png)    | ![ML Timline](figures/knee_means.png)\n",
    "\n",
    "- What type of data is the response?\n",
    "- What type are the covariates?\n",
    "- What type of ML problem is this?\n",
    "- What's an appropriate way to disseminate results of the model?\n"
   ]
  },
  {
   "cell_type": "markdown",
   "metadata": {
    "slideshow": {
     "slide_type": "subslide"
    }
   },
   "source": [
    "#### Example Problem: Predict Gleason Grade (Gleason Score 3, 4, or 5) from prostate cancer histopathology images."
   ]
  },
  {
   "cell_type": "markdown",
   "metadata": {
    "slideshow": {
     "slide_type": "subslide"
    }
   },
   "source": [
    "<img src=\"figures/g3_examples.png\" alt=\"Gleason 3\" width=\"600\"/>"
   ]
  },
  {
   "cell_type": "markdown",
   "metadata": {
    "slideshow": {
     "slide_type": "subslide"
    }
   },
   "source": [
    "<img src=\"figures/g4_examples.png\" alt=\"Gleason 4\" width=\"600\"/>\n"
   ]
  },
  {
   "cell_type": "markdown",
   "metadata": {
    "slideshow": {
     "slide_type": "subslide"
    }
   },
   "source": [
    "<img src=\"figures/g5_examples.png\" alt=\"Gleason 5\" width=\"600\"/>\n"
   ]
  },
  {
   "cell_type": "markdown",
   "metadata": {
    "slideshow": {
     "slide_type": "subslide"
    }
   },
   "source": [
    "#### Questions:\n",
    "- What type of ML problem is this?\n",
    "- What type of data is the response?\n",
    "- What type of data are the covariates?\n",
    "- What is an appropriate way to present results of the model?"
   ]
  },
  {
   "cell_type": "markdown",
   "metadata": {
    "slideshow": {
     "slide_type": "subslide"
    }
   },
   "source": [
    "## Image Classification (Example Methods)\n",
    "- Landmark based and summary feature extraction techniques (Dimensionality Reduction)\n",
    "- Convolutional Neural Networks"
   ]
  },
  {
   "cell_type": "markdown",
   "metadata": {
    "slideshow": {
     "slide_type": "subslide"
    }
   },
   "source": [
    "#### Problem: Extract features from images of handwritten digits to conduct classification with\n",
    "<img src=\"figures/MNIST.png\" alt=\"drawing\" width=\"600\"/>\n",
    "\n",
    "- What type of ML problem is this?\n",
    "- What type of data is the response?\n",
    "- What type of data are the covariates?\n",
    "- What is an appropriate way to present results of the model?"
   ]
  },
  {
   "cell_type": "markdown",
   "metadata": {
    "slideshow": {
     "slide_type": "subslide"
    }
   },
   "source": [
    "### Dimensionality Reduction\n",
    "\n",
    "1. Used for very large data -- could be applied to both large instances of data, or large collections of data\n",
    "\n",
    "2. Can pick out `building block' features in the data\n",
    "\n",
    "### Machine Learning Model - Principal Component Analysis\n",
    "\n",
    "1. Models data using a small set of building blocks\n",
    "\n",
    "2. Highly accurate data representation at a fraction of the space"
   ]
  },
  {
   "cell_type": "markdown",
   "metadata": {
    "slideshow": {
     "slide_type": "subslide"
    }
   },
   "source": [
    "### Dimensionality Reduction Techniques\n",
    "\n",
    "- **PCA**\n",
    "- Kernel PCA\n",
    "- SNE\n",
    "- T-SNE\n",
    "- UMAP\n",
    "- Autoencoders\n",
    "- Variable Importance Scores (e.g. Random Forests, Lasso Regression)"
   ]
  },
  {
   "cell_type": "markdown",
   "metadata": {
    "slideshow": {
     "slide_type": "subslide"
    }
   },
   "source": [
    "#### Problem: Model COVID-19 case count over time\n",
    "\n",
    "![ML Timline](figures/covid_cases.png)\n",
    "\n",
    "\n",
    "- What type of ML problem is this?\n",
    "- What type of data is the response?\n",
    "- What type of data are the covariates?\n",
    "- What is an appropriate way to present results of the model?\n"
   ]
  },
  {
   "cell_type": "markdown",
   "metadata": {
    "slideshow": {
     "slide_type": "subslide"
    }
   },
   "source": [
    "# Time Series Analysis Methods\n",
    "- **ARIMA models** (Autoregressive Integrated Moving Average)\n",
    "- Weighted Moving Average\n",
    "- Exponential Smoothing\n",
    "- Gaussian Process Regression"
   ]
  },
  {
   "cell_type": "markdown",
   "metadata": {
    "slideshow": {
     "slide_type": "subslide"
    }
   },
   "source": [
    "#### Problem: Find the global minimum of the Eggholder Function\n",
    "![ML Timline](figures/eggholder_function.png)\n",
    "\n",
    "- What type of ML problem is this?\n",
    "- What type of data is the response?\n",
    "- What type of data are the covariates?\n",
    "- What is an appropriate way to present results of the model?"
   ]
  },
  {
   "cell_type": "markdown",
   "metadata": {
    "slideshow": {
     "slide_type": "subslide"
    }
   },
   "source": [
    "### Optimization Techniques\n",
    "- Gradient Descent\n",
    "   - Newton Rhapson\n",
    "   - **Stochastic Gradient Descent**\n",
    "   - L-BFGS\n",
    "- Stochastic Search\n",
    "   - Genetic Algorithms\n",
    "   - Particle Swarm Optimization\n",
    "   - Ant Colony Optimization\n",
    "   - Whale Pod Optimization"
   ]
  },
  {
   "cell_type": "markdown",
   "metadata": {
    "slideshow": {
     "slide_type": "slide"
    }
   },
   "source": [
    "# Questions?"
   ]
  }
 ],
 "metadata": {
  "celltoolbar": "Slideshow",
  "kernelspec": {
   "display_name": "rmds-f2020-ws1",
   "language": "python",
   "name": "rmds-f2020-ws1"
  },
  "language_info": {
   "codemirror_mode": {
    "name": "ipython",
    "version": 3
   },
   "file_extension": ".py",
   "mimetype": "text/x-python",
   "name": "python",
   "nbconvert_exporter": "python",
   "pygments_lexer": "ipython3",
   "version": "3.8.3"
  }
 },
 "nbformat": 4,
 "nbformat_minor": 4
}
