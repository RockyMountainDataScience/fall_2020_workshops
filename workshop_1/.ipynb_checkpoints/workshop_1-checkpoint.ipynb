{
 "cells": [
  {
   "cell_type": "markdown",
   "metadata": {
    "slideshow": {
     "slide_type": "slide"
    }
   },
   "source": [
    "# Intro to ML I\n",
    "\n",
    "In this workshop, you will learn about:\n",
    " - ML (General Introduction and History)\n",
    " - ML Lifecycle\n",
    " - Types of problems (e.g. Regression, Classification)\n",
    " - Types of Data (Research Examples)"
   ]
  },
  {
   "cell_type": "markdown",
   "metadata": {
    "slideshow": {
     "slide_type": "subslide"
    }
   },
   "source": [
    "# Machine Learning (c. 1950s)\n",
    "\n",
    "- Interdisciplinary field of Computer Science\n",
    "- Considered to be a subset of artificial intelligence\n",
    "- Concerned with how to construct computer programs that learn with experience"
   ]
  },
  {
   "cell_type": "markdown",
   "metadata": {
    "slideshow": {
     "slide_type": "subslide"
    }
   },
   "source": [
    "# Main Branches of ML\n",
    "\n",
    " - Supervised Learning (Classification and Regression - Decision Trees, Neural Networks, Support Vector Machines, etc.)\n",
    " - Unsupervised Learning (Clustering and Dimensionality Reduction - Hierarchical Clustering, PCA, T-SNE, etc.)\n",
    " - Reinforcement Learning (Q-learning, SARSA, TD Lambda)"
   ]
  },
  {
   "cell_type": "markdown",
   "metadata": {
    "slideshow": {
     "slide_type": "subslide"
    }
   },
   "source": [
    "# Other Branches of ML\n",
    "- Semi-Supervised Learning (Data imputation approaches)\n",
    "- Adversarial Learning (Robust Statistics and Cyber Security, Generative Adversarial Networks)\n",
    "- Transfer Learning (Use ML built on one problem and apply to another)\n",
    "- Manifold Learning (Dimensionality Reduction)\n",
    "- Natural Language Processing\n",
    "- Inductive Logic Programming\n",
    "- Theoretical Foundations (Statistical Learning, Concept Learning)"
   ]
  },
  {
   "cell_type": "markdown",
   "metadata": {
    "slideshow": {
     "slide_type": "slide"
    }
   },
   "source": [
    "# ML Timeline\n",
    "![ML Timline](figures/ml_timeline.png)"
   ]
  },
  {
   "cell_type": "markdown",
   "metadata": {
    "slideshow": {
     "slide_type": "slide"
    }
   },
   "source": [
    "# Machine Learning Lifecycle\n",
    "\n",
    "## It's all about the data. \n",
    "\n",
    "![MLworkflow.jpg](figures/MLworkflow.jpg)\n"
   ]
  },
  {
   "cell_type": "markdown",
   "metadata": {
    "slideshow": {
     "slide_type": "slide"
    }
   },
   "source": [
    "## Data Collection\n",
    "\n",
    "![data-collection-ideas.jpg](figures/data-collection-ideas.jpg)"
   ]
  },
  {
   "cell_type": "markdown",
   "metadata": {
    "slideshow": {
     "slide_type": "slide"
    }
   },
   "source": [
    "# Research Question\n",
    "1. Based on topic, data available, and end goal\n",
    "\n",
    "2. Pick a Machine Learning model based on your research question\n",
    "\n",
    "**Now we're ready to scrub that data clean**\n"
   ]
  },
  {
   "cell_type": "markdown",
   "metadata": {
    "slideshow": {
     "slide_type": "slide"
    }
   },
   "source": [
    "## Data Cleaning\n",
    "![DirtyData-650x431.png](figures/DirtyData-650x431.png)\n",
    "### Unmanageable data leads to an unwieldy model"
   ]
  },
  {
   "cell_type": "markdown",
   "metadata": {
    "slideshow": {
     "slide_type": "slide"
    }
   },
   "source": [
    "## Data Cleaning\n",
    "\n",
    "    1. Fit data format to Machine Learning model\n",
    "    \n",
    "    2. Perform any desired pre-processing\n",
    "\n",
    "### Analysis time!"
   ]
  },
  {
   "cell_type": "markdown",
   "metadata": {
    "slideshow": {
     "slide_type": "slide"
    }
   },
   "source": [
    "## Analysis using Machine Learning\n",
    "\n",
    "![Machine-Learning.png](figures/Machine-Learning.png)"
   ]
  },
  {
   "cell_type": "markdown",
   "metadata": {
    "slideshow": {
     "slide_type": "slide"
    }
   },
   "source": [
    "## Analysis using a supervised learning method\n",
    "\n",
    "![Training.jpg](figures/Training.jpg)"
   ]
  },
  {
   "cell_type": "markdown",
   "metadata": {
    "slideshow": {
     "slide_type": "slide"
    }
   },
   "source": [
    "## Presentation of Results\n",
    "\n",
    "![Average-precision-recall-and-ROC-curves-for-the-GO-rollback-benchmark-The-curves.png](figures/Average-precision-recall-and-ROC-curves-for-the-GO-rollback-benchmark-The-curves.png)"
   ]
  },
  {
   "cell_type": "markdown",
   "metadata": {
    "slideshow": {
     "slide_type": "slide"
    }
   },
   "source": [
    "# Types of Data (Response or Covariate)\n",
    "- Numerical (Continuous, Count)\n",
    "- Categorical (Nominal, Ordinal)\n",
    "- Functional (Time Series, Temporal, Spatial, Images)\n",
    "- Time to Event (Survival, Point Processes)"
   ]
  },
  {
   "cell_type": "markdown",
   "metadata": {
    "slideshow": {
     "slide_type": "slide"
    }
   },
   "source": [
    "# Numerical (Regression Example)\n",
    "- Example Problem: Estimate the average price of a diamond based on carat and cut\n",
    "![ML Timline](figures/carat.png)"
   ]
  },
  {
   "cell_type": "markdown",
   "metadata": {
    "slideshow": {
     "slide_type": "slide"
    }
   },
   "source": [
    "# Regression (Example Methods)\n",
    "- Linear Regression\n",
    "- Nonlinear Regression\n",
    "- Generalized Additive Models\n",
    "- Support Vector Machines\n",
    "- Neural Networks\n",
    "- Kernel Regression (**Gaussian Process Regression**)\n",
    "- Decision Trees and Random Forests\n",
    "- K-Nearest Neighbors"
   ]
  },
  {
   "cell_type": "markdown",
   "metadata": {
    "slideshow": {
     "slide_type": "slide"
    }
   },
   "source": [
    "# Categorical (Classification Example)\n",
    "- Example Problem: Classifiy species of Iris bases on sepal length and sepal width\n",
    "![ML Timline](figures/iris_svm.png)\n"
   ]
  },
  {
   "cell_type": "markdown",
   "metadata": {
    "slideshow": {
     "slide_type": "slide"
    }
   },
   "source": [
    "# Classification (Example Methods)\n",
    "- Generalized Linear Regression\n",
    "- Generalized Additive Models\n",
    "- Support Vector Machines\n",
    "- Neural Networks\n",
    "- Kernel Regression (**Gaussian Processes**)\n",
    "- Decision Trees and Random Forests\n",
    "- K-Nearest Neighbors"
   ]
  },
  {
   "cell_type": "markdown",
   "metadata": {
    "slideshow": {
     "slide_type": "slide"
    }
   },
   "source": [
    "# Functional (Functional ANOVA)\n",
    "- Example Problem: Do hip angle trajectories differ across 3 groups of individuals?\n",
    "![ML Timline](figures/knee_orig.png)\n",
    "![ML Timline](figures/knee_means.png)\n"
   ]
  },
  {
   "cell_type": "markdown",
   "metadata": {
    "slideshow": {
     "slide_type": "slide"
    }
   },
   "source": [
    "# Functional (Image Classification)\n",
    "- Example Problem: Predict Gleason Grade from prostate cancer histopathology images.\n"
   ]
  },
  {
   "cell_type": "markdown",
   "metadata": {
    "slideshow": {
     "slide_type": "slide"
    }
   },
   "source": [
    "![ML Timline](figures/g3_examples.png)"
   ]
  },
  {
   "cell_type": "markdown",
   "metadata": {
    "slideshow": {
     "slide_type": "slide"
    }
   },
   "source": [
    "![ML Timline](figures/g4_examples.png)"
   ]
  },
  {
   "cell_type": "markdown",
   "metadata": {
    "slideshow": {
     "slide_type": "slide"
    }
   },
   "source": [
    "![ML Timline](figures/g5_examples.png)"
   ]
  },
  {
   "cell_type": "markdown",
   "metadata": {
    "slideshow": {
     "slide_type": "slide"
    }
   },
   "source": [
    "# Image Classification (Example Methods)\n",
    "- Landmark based and summary feature extraction techniques\n",
    "- Convolutional Neural Networks"
   ]
  },
  {
   "cell_type": "markdown",
   "metadata": {
    "slideshow": {
     "slide_type": "slide"
    }
   },
   "source": [
    "### Dimensionality Reduction\n",
    "\n",
    "1. Used for very large data -- could be applied to both large instances of data, or large collections of data\n",
    "\n",
    "2. Can pick out `building block' features in the data\n",
    "\n",
    "### Machine Learning Model - Principal Component Analysis\n",
    "\n",
    "1. Models data using a small set of building blocks\n",
    "\n",
    "2. Highly accurate data representation at a fraction of the space"
   ]
  },
  {
   "cell_type": "markdown",
   "metadata": {
    "slideshow": {
     "slide_type": "slide"
    }
   },
   "source": [
    "# Types of Data Example\n",
    "\n",
    "## Image Feature Extraction\n",
    "\n",
    "![MNIST.png](figures/MNIST.png)"
   ]
  },
  {
   "cell_type": "markdown",
   "metadata": {
    "slideshow": {
     "slide_type": "slide"
    }
   },
   "source": [
    "# Time Series Analysis\n",
    "Example Problem: Forecast (blank)"
   ]
  },
  {
   "cell_type": "markdown",
   "metadata": {
    "slideshow": {
     "slide_type": "slide"
    }
   },
   "source": [
    "# Time Series Analysis Methods\n",
    "- ARIMA models (Autoregressive Integrated Moving Average)\n",
    "- Weighted Moving Average\n",
    "- Exponential Smoothing\n",
    "- Gaussian Process Regression"
   ]
  },
  {
   "cell_type": "markdown",
   "metadata": {
    "slideshow": {
     "slide_type": "slide"
    }
   },
   "source": [
    "# Survival Analysis\n",
    "Example Problem: "
   ]
  }
 ],
 "metadata": {
  "celltoolbar": "Slideshow",
  "kernelspec": {
   "display_name": "rmds-f2020-ws1",
   "language": "python",
   "name": "rmds-f2020-ws1"
  },
  "language_info": {
   "codemirror_mode": {
    "name": "ipython",
    "version": 3
   },
   "file_extension": ".py",
   "mimetype": "text/x-python",
   "name": "python",
   "nbconvert_exporter": "python",
   "pygments_lexer": "ipython3",
   "version": "3.8.3"
  }
 },
 "nbformat": 4,
 "nbformat_minor": 4
}
