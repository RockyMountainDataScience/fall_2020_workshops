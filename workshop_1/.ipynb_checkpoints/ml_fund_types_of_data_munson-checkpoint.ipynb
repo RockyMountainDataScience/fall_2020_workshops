{
 "cells": [
  {
   "cell_type": "markdown",
   "metadata": {},
   "source": [
    "### Types of data"
   ]
  },
  {
   "cell_type": "markdown",
   "metadata": {},
   "source": [
    "First thing\n",
    "    - Where did the data come from?\n",
    "    - What are rows and columns?\n",
    "    - Readme? Another source? What do we know about it beforehand?\n",
    "    - Why were certain attributes collected?\n",
    "\n",
    "Types of data:\n",
    "\n",
    "- Continuous data\n",
    "    - Real-valued data\n",
    "        - Temperature, PPM\n",
    "- Count data\n",
    "    - Integer-valued\n",
    "        - Number of Covid cases\n",
    "- Categorical\n",
    "    - Binary\n",
    "        - T/F, Y/N, Good/Bad, Heads/Tails\n",
    "    - Unordered\n",
    "        - City {LA, NY, SF}\n",
    "    - Ordered\n",
    "        - Income values {low, middle, high}, Education level {high school, bachelors, graduate, doctor}\n",
    "\n",
    "Structures:\n",
    "\n",
    "- Spatial\n",
    "- Sequence Data\n",
    "    - Sequences, Time Series\n",
    "- Text data \n",
    "    - Matrix\n",
    "    - txt files\n",
    "- Image data\n",
    "    - Matrix\n",
    "    - image files\n",
    "- Streaming data"
   ]
  },
  {
   "cell_type": "markdown",
   "metadata": {},
   "source": [
    "Dedicated slide to an example of my workshop\n",
    "\n",
    "\n",
    "- In my workshop we'll discuss Gradient Descent\n",
    "- Gradient descent is an optimization algorithm for finding model parameters\n",
    "- The general idea is that we minimize error by moving down the surface in the direct of the gradient\n",
    "- Can be used for problems such as Least Squares estimation\n",
    "\n"
   ]
  },
  {
   "cell_type": "code",
   "execution_count": null,
   "metadata": {},
   "outputs": [],
   "source": []
  }
 ],
 "metadata": {
  "kernelspec": {
   "display_name": "Python 3",
   "language": "python",
   "name": "python3"
  },
  "language_info": {
   "codemirror_mode": {
    "name": "ipython",
    "version": 3
   },
   "file_extension": ".py",
   "mimetype": "text/x-python",
   "name": "python",
   "nbconvert_exporter": "python",
   "pygments_lexer": "ipython3",
   "version": "3.8.3"
  }
 },
 "nbformat": 4,
 "nbformat_minor": 2
}
