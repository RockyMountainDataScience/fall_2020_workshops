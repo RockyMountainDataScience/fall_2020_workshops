{
 "cells": [
  {
   "cell_type": "markdown",
   "metadata": {
    "slideshow": {
     "slide_type": "slide"
    }
   },
   "source": [
    "# Intro to ML I\n",
    "\n",
    "In this workshop, you will learn about:\n",
    " - ML (General Introduction and History)\n",
    " - ML Lifecycle\n",
    " - Types of problems (e.g. Regression, Classification)\n",
    " - Types of Data (Research Examples)"
   ]
  },
  {
   "cell_type": "markdown",
   "metadata": {
    "slideshow": {
     "slide_type": "slide"
    }
   },
   "source": [
    "# Intro to ML (General)\n",
    "\n",
    " - Machine Learning is the study of \n"
   ]
  }
 ],
 "metadata": {
  "celltoolbar": "Slideshow",
  "kernelspec": {
   "display_name": "rmds-f2020-ws1",
   "language": "python",
   "name": "rmds-f2020-ws1"
  },
  "language_info": {
   "codemirror_mode": {
    "name": "ipython",
    "version": 3
   },
   "file_extension": ".py",
   "mimetype": "text/x-python",
   "name": "python",
   "nbconvert_exporter": "python",
   "pygments_lexer": "ipython3",
   "version": "3.8.3"
  }
 },
 "nbformat": 4,
 "nbformat_minor": 4
}
