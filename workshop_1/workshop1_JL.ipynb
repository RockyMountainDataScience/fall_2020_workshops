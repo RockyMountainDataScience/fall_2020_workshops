{
 "cells": [
  {
   "cell_type": "markdown",
   "metadata": {
    "slideshow": {
     "slide_type": "slide"
    }
   },
   "source": [
    "# Machine Learning Fundamentals I\n",
    "\n",
    "## Workshop 1\n",
    "\n",
    "### August 24th, 2020"
   ]
  },
  {
   "cell_type": "markdown",
   "metadata": {
    "slideshow": {
     "slide_type": "slide"
    }
   },
   "source": [
    "# What is RMDS?\n",
    "\n",
    "* Rocky Mountain Data Science is about data science.\n",
    "\n",
    "* Rocky Mountain Data Science is about professional development.\n",
    "\n",
    "* Rocky Mountain Data Science is about community."
   ]
  },
  {
   "cell_type": "markdown",
   "metadata": {
    "slideshow": {
     "slide_type": "slide"
    }
   },
   "source": [
    "# Differences from the Past\n",
    "\n",
    "* All online\n",
    "\n",
    "* Weekly one hour instead of two hours every two weeks\n",
    "\n",
    "* Code Talk Sessions on weeks when workshops are not scheduled"
   ]
  },
  {
   "cell_type": "markdown",
   "metadata": {
    "slideshow": {
     "slide_type": "slide"
    }
   },
   "source": [
    "# Semester Plan\n",
    "\n",
    "* Two ML Fundamentals Workshops\n",
    "\n",
    "* Topic Workshops\n",
    "\n",
    "* Code Talks"
   ]
  },
  {
   "cell_type": "markdown",
   "metadata": {
    "slideshow": {
     "slide_type": "slide"
    }
   },
   "source": [
    "# RMDS.tech\n",
    "\n",
    "* Our website has our future schedule\n",
    "\n",
    "* Share the mailing list link with those you think may be interested\n",
    "\n",
    "* Will have links to webinar videos and material"
   ]
  },
  {
   "cell_type": "markdown",
   "metadata": {
    "slideshow": {
     "slide_type": "slide"
    }
   },
   "source": [
    "# After Every Workshop...\n",
    "\n",
    "* Videos will be posted from the recorded session\n",
    "\n",
    "* Material from that session will be included as a link\n",
    "\n",
    "* Next session will be announced"
   ]
  },
  {
   "cell_type": "markdown",
   "metadata": {
    "slideshow": {
     "slide_type": "slide"
    }
   },
   "source": [
    "# Interested in Volunteering?\n",
    "\n",
    "* Contact us to let us know if you are interested in volunteering for RMDS"
   ]
  }
 ],
 "metadata": {
  "celltoolbar": "Slideshow",
  "kernelspec": {
   "display_name": "Python 3",
   "language": "python",
   "name": "python3"
  },
  "language_info": {
   "codemirror_mode": {
    "name": "ipython",
    "version": 3
   },
   "file_extension": ".py",
   "mimetype": "text/x-python",
   "name": "python",
   "nbconvert_exporter": "python",
   "pygments_lexer": "ipython3",
   "version": "3.8.3"
  }
 },
 "nbformat": 4,
 "nbformat_minor": 4
}
