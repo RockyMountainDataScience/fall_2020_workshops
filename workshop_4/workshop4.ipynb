{
 "cells": [
  {
   "cell_type": "markdown",
   "metadata": {
    "slideshow": {
     "slide_type": "slide"
    }
   },
   "source": [
    "# RMDS - Workshop 4\n",
    "### Gaussian Process Regression"
   ]
  },
  {
   "cell_type": "markdown",
   "metadata": {
    "slideshow": {
     "slide_type": "slide"
    }
   },
   "source": [
    "# Gaussian Process Regression \n",
    "### What is it?\n",
    "- A Bayesian nonparametric regression technique\n",
    "- A method of interpolation where the interpolated values are modeled via a Gaussian process"
   ]
  },
  {
   "cell_type": "markdown",
   "metadata": {
    "slideshow": {
     "slide_type": "subslide"
    }
   },
   "source": [
    "# Gaussian Process Regression (Pros and Cons)\n",
    "### Advantages\n",
    "- Predictions interpolate our observations\n",
    "- Predictions come with quantification of uncertainty\n",
    "- Flexible (Various kernels can be specified)\n",
    "### Disadvantages\n",
    "- Not sparse (need entire dataset to produce predictions)\n",
    "- Lose efficiency in high dimensional spaces"
   ]
  },
  {
   "cell_type": "markdown",
   "metadata": {
    "slideshow": {
     "slide_type": "subslide"
    }
   },
   "source": [
    "# Gaussian Process Regression (History)\n",
    "- Herman Wold (1938)\n",
    "- Andrey Kolmogorov (1941)\n",
    "- Norbert Wiener (1942)\n",
    "- Danie Krige (1950s)\n",
    "- Georges Matheron (1960s)\n",
    "- Carl Rasmussen & Christopher Williams (1996-present)"
   ]
  },
  {
   "cell_type": "markdown",
   "metadata": {
    "slideshow": {
     "slide_type": "subslide"
    }
   },
   "source": [
    "# Gaussian Process Regression (A method by many names)\n",
    "- Wiener-Kolmogorov Prediction\n",
    "- Kriging\n",
    "- Gaussian Process Regression"
   ]
  },
  {
   "cell_type": "markdown",
   "metadata": {
    "slideshow": {
     "slide_type": "slide"
    }
   },
   "source": [
    "# KNN Classification\n",
    "From Workshop 2:\n",
    "\n",
    "|     |    |\n",
    "| :------------- | :----------: |\n",
    "| ![](figures/iris_raw_data.png)  | ![](figures/irisk-best-k.png)    |"
   ]
  },
  {
   "cell_type": "markdown",
   "metadata": {
    "slideshow": {
     "slide_type": "subslide"
    }
   },
   "source": [
    "# KNN Regression\n",
    "\n",
    "|                 |              |\n",
    "| :------------- | :----------: |\n",
    "| ![](figures/sin.png)  | ![](figures/sin-knn.png)    |\n"
   ]
  },
  {
   "cell_type": "markdown",
   "metadata": {
    "slideshow": {
     "slide_type": "slide"
    }
   },
   "source": [
    "# Ordinary Linear Regression\n",
    "\n",
    "![](figures/ols.png)\n",
    "\n",
    "$$ y = \\theta^T X + \\epsilon \\; \\; \\; \\epsilon \\sim N(0, \\sigma) $$\n",
    "\n",
    "Solve via maximum likelihood:\n",
    "$$ \\hat \\theta_{MLE} = \\text{arg}\\max_{\\theta} L(\\theta) = \\text{arg}\\max_{\\theta} \\prod_{i=1}^n \\frac{1}{\\sqrt{2 \\pi \\sigma^2}} exp \\left \\{ - \\frac{(y_i - \\theta^T x_i)}{2 \\sigma^2} \\right \\}$$\n",
    "Or equivalently (in this case) via least squares:\n",
    "$$ min_{\\theta} || \\epsilon ||_2 = min_{\\theta} \\sum_{i=1}^n (y- y_i)^2 $$\n",
    "$$ \\hat \\theta = (X^T X)^{-1}X^T y $$"
   ]
  },
  {
   "cell_type": "markdown",
   "metadata": {
    "slideshow": {
     "slide_type": "subslide"
    }
   },
   "source": [
    "# A Bayesian Perspective\n",
    "\n",
    "\\begin{align}\n",
    "f(\\theta | y) &= \\frac{f(y| \\theta) f(\\theta)}{\\int f(y| \\theta) f(\\theta) d \\theta} \\\\\n",
    "&= \\text{constant} \\times f(\\theta) f(y | \\theta) \\\\\n",
    "&\\propto f(\\theta) L(\\theta)\n",
    "\\end{align}\n",
    " \n",
    "$$ \\hat \\theta_{MAP} = \\text{arg} \\max_{\\theta} f(\\theta | y) $$"
   ]
  },
  {
   "cell_type": "markdown",
   "metadata": {
    "slideshow": {
     "slide_type": "slide"
    }
   },
   "source": [
    "# But what if our data is not linear?\n",
    "\n",
    "![](figures/sin.png)  \n",
    "\n",
    "$$ y = f(x) + \\epsilon = \\theta \\phi(x) + \\epsilon $$\n",
    "\n",
    "$$ \\hat \\theta = (\\phi^T \\phi)^{-1} \\phi^T y $$"
   ]
  },
  {
   "cell_type": "markdown",
   "metadata": {
    "slideshow": {
     "slide_type": "subslide"
    }
   },
   "source": [
    "# The Kernel Trick\n",
    "$$ J(\\theta) = \\sum_{i=1}^n (y_i - \\theta^T \\phi(x_i))^2$$\n",
    "Solve for $\\theta$ yields\n",
    "\\begin{align*}\n",
    "\\hat \\theta &= \\sum_{i=1}^n (y_i - \\theta^T \\phi(x_i)) \\phi(x_i)\\\\\n",
    "&= \\sum_{i=1}^n \\alpha_i \\phi(x_i) \\\\\n",
    "&= \\phi^T \\alpha\n",
    "\\end{align*}"
   ]
  },
  {
   "cell_type": "markdown",
   "metadata": {
    "slideshow": {
     "slide_type": "subslide"
    }
   },
   "source": [
    "\\begin{align*}\n",
    "J(\\theta) &= \\sum_{i=1}^n (y_i - \\theta^T \\phi(x_i))^2\\\\\n",
    " &=(\\mathbf{y} - \\phi \\theta)^T(\\mathbf{y} - \\phi \\theta)\\\\\n",
    " &=\\mathbf{y}^T\\mathbf{y} - \\mathbf{y}^T \\phi \\theta - \\theta^T \\phi^T \\mathbf{y} + \\theta^T \\phi^T \\phi \\theta\n",
    "\\end{align*}\n",
    "\n",
    "\n",
    "Rewriting in terms of $\\alpha$ gives:\n",
    "\\begin{align*}\n",
    "J(\\alpha) &= \\mathbf{y}^T \\mathbf{y} - \\mathbf{y}^T \\phi (\\phi^T \\alpha) - (\\phi^T \\alpha)^T \\phi^T y + (\\phi^T \\alpha)^T \\phi^T \\phi (\\phi^T \\alpha)\\\\\n",
    "&= \\mathbf{y}^T \\mathbf{y} - \\mathbf{y}^T \\phi \\phi^T \\alpha - \\alpha^T \\phi \\phi^T \\mathbf{y} + \\alpha^T \\phi \\phi^T \\phi \\phi^T \\alpha \\\\\n",
    "&= \\mathbf{y}^T \\mathbf{y} - \\mathbf{y}^T K \\alpha - \\alpha^T K \\mathbf{y} + \\alpha^T KK \\alpha\n",
    "\\end{align*}"
   ]
  },
  {
   "cell_type": "markdown",
   "metadata": {
    "slideshow": {
     "slide_type": "slide"
    }
   },
   "source": [
    "# Reproducing Kernel Hilbert Spaces\n",
    "\n",
    "Let $x,y \\in \\mathbb{R}^p$ and consider the space of functionals generated by the span of $\\{K(\\cdot, y), y \\in \\mathbb{R}^p\\}$\n",
    "\n",
    "These are functions of the form:\n",
    "$$ f(x) = \\sum_m \\alpha_m K(x, y_m) $$\n",
    "\n",
    "Suppose $K$ has an eigen-expansion\n",
    "$$ K(x,y) = \\sum_{i=1}^{\\infty} \\gamma_i \\phi_i(x) \\phi_i(y) $$\n",
    "with $\\gamma_i \\geq 0$ and $\\sum_{i=1}^{\\infty}\\gamma_i < \\infty$\n",
    "\n",
    "Then, elements of $\\mathcal{H}_K$ have the form\n",
    "$$ f(x) = \\sum_{i=1}^{\\infty} c_i \\phi_i(x) $$"
   ]
  },
  {
   "cell_type": "markdown",
   "metadata": {
    "slideshow": {
     "slide_type": "subslide"
    }
   },
   "source": [
    "# Examples of Kernels (Polynomial Kernel)\n",
    " For $d$-degree polynomials, the polynomial kernel is defined by\n",
    "    $$ (x^Ty + c)^d $$\n",
    "    \n",
    "A kernel $K$ corresponds to an inner product in some feature space based on some mapping $\\phi$:\n",
    "$$ k(x,y) = < \\phi(x), \\phi(y) > $$\n",
    "For $d=2$, let's see what this feature map looks like. We have\n",
    "$$ K(x,y) = (\\sum_{i=1}^p x_i y_i + c)^2 = \\sum_{i=1}^p x_i^2 y_i^2 + \\sum_{i=2}^p \\sum_{j=1}^{i-1} (\\sqrt{2} x_i x_j)(\\sqrt{2} y_i y_j) + \\sum_{i=1}^p 2c \\sqrt{x_i y_i} + c^2$$\n"
   ]
  },
  {
   "cell_type": "markdown",
   "metadata": {
    "slideshow": {
     "slide_type": "subslide"
    }
   },
   "source": [
    "# Examples of Kernels (Squared Exponential AKA RBF AKA Gaussian)\n",
    "\n",
    "$$K(x,y) = \\sigma^2 exp \\left ( - \\frac{(x - y)}{2 \\ell^2} \\right ) $$\n",
    "Here, $\\ell$ controls the wiggliness of functions generated by this kernel."
   ]
  },
  {
   "cell_type": "markdown",
   "metadata": {
    "slideshow": {
     "slide_type": "slide"
    }
   },
   "source": [
    "# Gaussian Random Fields (Gaussian Processes)\n",
    "Representation: $\\{Z(s) | s \\in D \\subset \\mathbb{R}^d \\}$\n",
    "Suppose a model with additive error:\n",
    "$$ Z(s) = \\mu(s) + e(s)$$\n",
    "The Gaussian process is completely specified by its mean and variance functions:\n",
    "$$ \\mu(s) = E[Z(s)]$$\n",
    "$$ K(s,s') = Cov(s, s') = C(h) = Cov[e(s), e(s + h)] $$\n",
    "This is given by a kernel function. e.g. Gaussian:\n",
    "$$C(h) = exp \\{ -h^2 / \\ell^2 \\} $$"
   ]
  },
  {
   "cell_type": "markdown",
   "metadata": {
    "slideshow": {
     "slide_type": "subslide"
    }
   },
   "source": [
    "# Samples of Gaussian Random Fields\n",
    "\n",
    "|                 |              |\n",
    "| :------------- | :----------: |\n",
    "| ![](figures/grf10.png)  | ![](figures/grf1.png)    |"
   ]
  },
  {
   "cell_type": "markdown",
   "metadata": {
    "slideshow": {
     "slide_type": "slide"
    }
   },
   "source": [
    "# Gaussian Processes Regression\n",
    "The data:\n",
    "$$ P(y_1, \\dots, y_n | x_1, \\dots, x_n) \\sim N(\\mathbf{f}, K) \\; \\; \\; \\; \\; K_{i,j} = K(x_i, x_j) $$\n",
    "Prediction:\n",
    "$$ P(y_1, \\dots, y_n, y_* | x_1, \\dots, x_n, x_*) \\sim N(\\mathbf{f}_*, \\Sigma) $$\n",
    "$$ P(y_* | y_1, \\dots, y_n, x_1, \\dots, x_n, x_*) \\sim N(K_*^TK^{-1} y,  K_{**} K^{-1} K_*) $$\n",
    "\n",
    "Where \n",
    "$$ \\Sigma = \\begin{bmatrix} K & K_* \\\\ K_*^T & K_{**} \\end{bmatrix} $$"
   ]
  },
  {
   "cell_type": "markdown",
   "metadata": {
    "slideshow": {
     "slide_type": "slide"
    }
   },
   "source": [
    "# GP Regression (An example)\n",
    "\n",
    "The data:\n",
    "$$ X = \\{0.01, 0.02, 0.025, 0.18, 0.19, 0.3, 0.67, .76, .79, 0.88, 0.88, 0.9 \\} $$\n",
    "$$ Y = \\{ 3.75, 3.80, 3.70, 3.30, 3.45, 3.80, 3.65, 3.75, 3.00, 1.60, 1.55, 1.40 \\} $$\n",
    "\n",
    "![](figures/gp-data.png) "
   ]
  },
  {
   "cell_type": "code",
   "execution_count": 22,
   "metadata": {
    "slideshow": {
     "slide_type": "slide"
    }
   },
   "outputs": [],
   "source": [
    "import gpflow\n",
    "import numpy as np\n",
    "import tensorflow as tf\n",
    "import matplotlib.pyplot as plt\n",
    "\n",
    "X = [0.01, 0.02, 0.025, 0.18, 0.19, 0.3, 0.67, .76, .79, 0.88, 0.88, 0.9]\n",
    "Y = [3.75, 3.80, 3.70, 3.30, 3.45, 3.80, 3.65, 3.75, 3.00, 1.60, 1.55, 1.40]\n",
    "X = np.array(X).reshape(-1, 1)\n",
    "Y = np.array(Y).reshape(-1, 1)\n",
    "\n",
    "k = gpflow.kernels.SquaredExponential()\n",
    "m = gpflow.models.GPR(data=(X, Y), kernel=k, mean_function=None)\n",
    "opt = gpflow.optimizers.Scipy()\n",
    "opt_logs = opt.minimize(m.training_loss, m.trainable_variables, options=dict(maxiter=1000))\n",
    "\n",
    "## generate test points for prediction\n",
    "xx = np.linspace(-0.1, 1.1, 100).reshape(100, 1)  # test points must be of shape (N, D)\n",
    "\n",
    "## predict mean and variance of latent GP at test points\n",
    "mean, var = m.predict_f(xx)\n",
    "\n",
    "## generate 20 samples from posterior\n",
    "tf.random.set_seed(1)  # for reproducibility\n",
    "samples = m.predict_f_samples(xx, 20)  # shape (10, 100, 1)"
   ]
  },
  {
   "cell_type": "code",
   "execution_count": 23,
   "metadata": {
    "collapsed": true,
    "slideshow": {
     "slide_type": "slide"
    }
   },
   "outputs": [
    {
     "data": {
      "image/png": "[encoded data removed]",
      "text/plain": [
       "<Figure size 432x288 with 1 Axes>"
      ]
     },
     "metadata": {
      "needs_background": "light"
     },
     "output_type": "display_data"
    }
   ],
   "source": [
    "plt.figure()\n",
    "plt.xlim(-.1, 1.1)\n",
    "plt.ylim(-5, 7)\n",
    "plt.plot(X, Y, \"kx\", mew=2)\n",
    "plt.plot(xx, mean, \"red\", lw=2)\n",
    "plt.fill_between(\n",
    "    xx[:, 0],\n",
    "    mean[:, 0] - 1.96 * np.sqrt(var[:, 0]),\n",
    "    mean[:, 0] + 1.96 * np.sqrt(var[:, 0]),\n",
    "    color=\"C0\",\n",
    "    alpha=0.2,\n",
    ")\n",
    "\n",
    "plt.plot(xx, samples[:, :, 0].numpy().T, \"C0\", linewidth=0.5)\n",
    "_ = plt.xlim(-0.1, 1.1)"
   ]
  },
  {
   "cell_type": "markdown",
   "metadata": {
    "slideshow": {
     "slide_type": "slide"
    }
   },
   "source": [
    "\n",
    "|                 |              |\n",
    "| :------------- | :----------: |\n",
    "| ![](figures/gp-data.png)  | ![](figures/gp-model.png)    |"
   ]
  },
  {
   "cell_type": "markdown",
   "metadata": {
    "slideshow": {
     "slide_type": "slide"
    }
   },
   "source": [
    "# What if we chose a different value for $\\sigma$ and $\\ell$?\n",
    "\n",
    "\n",
    "|                 |              |             |   |\n",
    "| :------------- | ---------- |---------- | ----------: |\n",
    "| ![](figures/gp-model-0_1-10.png)  | ![](figures/gp-model-0_1-1.png)    | ![](figures/gp-model-0_1-0_1.png)   | ![](figures/gp-model-1-0_1.png) |"
   ]
  },
  {
   "cell_type": "markdown",
   "metadata": {
    "slideshow": {
     "slide_type": "slide"
    }
   },
   "source": [
    "# Questions?"
   ]
  }
 ],
 "metadata": {
  "celltoolbar": "Slideshow",
  "kernelspec": {
   "display_name": "rmds-f20-ws4",
   "language": "python",
   "name": "rmds-f20-ws4"
  },
  "language_info": {
   "codemirror_mode": {
    "name": "ipython",
    "version": 3
   },
   "file_extension": ".py",
   "mimetype": "text/x-python",
   "name": "python",
   "nbconvert_exporter": "python",
   "pygments_lexer": "ipython3",
   "version": "3.6.11"
  }
 },
 "nbformat": 4,
 "nbformat_minor": 4
}
